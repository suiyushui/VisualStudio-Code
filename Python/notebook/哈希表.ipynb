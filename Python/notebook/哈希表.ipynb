{
 "cells": [
  {
   "cell_type": "code",
   "execution_count": 2,
   "id": "f80e10bc",
   "metadata": {},
   "outputs": [
    {
     "name": "stdout",
     "output_type": "stream",
     "text": [
      "元素数: 1 → 内存变化: 64 → 224 字节\n",
      "元素数: 6 → 内存变化: 224 → 352 字节\n",
      "元素数: 11 → 内存变化: 352 → 632 字节\n",
      "元素数: 22 → 内存变化: 632 → 1168 字节\n",
      "元素数: 43 → 内存变化: 1168 → 2264 字节\n",
      "元素数: 86 → 内存变化: 2264 → 4688 字节\n",
      "元素数: 171 → 内存变化: 4688 → 9304 字节\n",
      "元素数: 342 → 内存变化: 9304 → 18512 字节\n",
      "元素数: 683 → 内存变化: 18512 → 36952 字节\n"
     ]
    }
   ],
   "source": [
    "import sys\n",
    "\n",
    "d = {}\n",
    "prev_size = sys.getsizeof(d)\n",
    "\n",
    "for i in range(1000):\n",
    "    d[i] = i  # 添加元素\n",
    "    new_size = sys.getsizeof(d)\n",
    "    if new_size != prev_size:\n",
    "        print(f\"元素数: {i+1} → 内存变化: {prev_size} → {new_size} 字节\")\n",
    "        prev_size = new_size"
   ]
  },
  {
   "cell_type": "code",
   "execution_count": 5,
   "id": "dcb33d0c",
   "metadata": {},
   "outputs": [
    {
     "name": "stdout",
     "output_type": "stream",
     "text": [
      "[(1, 224), (6, 352), (11, 632), (22, 1168), (43, 2264), (86, 4688)]\n"
     ]
    }
   ],
   "source": [
    "import sys\n",
    "\n",
    "def check_dict_resize():\n",
    "    d = {}\n",
    "    sizes = []\n",
    "    for i in range(100):\n",
    "        d[i] = i\n",
    "        if not sizes or sys.getsizeof(d) != sizes[-1][-1]:\n",
    "            sizes.append((i+1, sys.getsizeof(d)))\n",
    "    return sizes\n",
    "\n",
    "print(check_dict_resize())"
   ]
  },
  {
   "cell_type": "markdown",
   "id": "2837b346",
   "metadata": {},
   "source": [
    "字典并不是每插入一个键就立即变大，而是当装载因子(load factor)超过 2/3 时，把桶数组(bucket array)一次性扩容到原来的 2 倍左右。这就是你看到的 (元素个数, 字典对象总大小) 跳跃式增长的表： \n",
    "\n",
    "[(1, 224), (6, 352), (11, 632), (22, 1168), (43, 2264), (86, 4688)]"
   ]
  }
 ],
 "metadata": {
  "kernelspec": {
   "display_name": "Python 3",
   "language": "python",
   "name": "python3"
  },
  "language_info": {
   "codemirror_mode": {
    "name": "ipython",
    "version": 3
   },
   "file_extension": ".py",
   "mimetype": "text/x-python",
   "name": "python",
   "nbconvert_exporter": "python",
   "pygments_lexer": "ipython3",
   "version": "3.13.5"
  }
 },
 "nbformat": 4,
 "nbformat_minor": 5
}
