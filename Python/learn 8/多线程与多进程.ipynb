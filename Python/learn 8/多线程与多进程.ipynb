{
 "cells": [
  {
   "cell_type": "code",
   "execution_count": 1,
   "id": "f81a276a",
   "metadata": {},
   "outputs": [
    {
     "name": "stdout",
     "output_type": "stream",
     "text": [
      "正在唱歌呢，请稍等...\n",
      "正在唱歌呢，请稍等...\n",
      "正在唱歌呢，请稍等...\n",
      "正在唱歌呢，请稍等...\n",
      "正在唱歌呢，请稍等...\n",
      "正在跳舞呢，请稍等...\n",
      "正在跳舞呢，请稍等...\n",
      "正在跳舞呢，请稍等...\n",
      "正在跳舞呢，请稍等...\n",
      "正在跳舞呢，请稍等...\n",
      "所有线程都结束了！\n"
     ]
    }
   ],
   "source": [
    "import threading \n",
    "# import time \n",
    "\n",
    "def sing():\n",
    "    for i in range(5):\n",
    "        print(\"正在唱歌呢，请稍等...\")\n",
    "        # time.sleep(1)\n",
    "\n",
    "def dance():\n",
    "    for i in range(5):\n",
    "        print(\"正在跳舞呢，请稍等...\")\n",
    "        # time.sleep(1)\n",
    "\n",
    "t1= threading.Thread(target=sing)\n",
    "t2= threading.Thread(target=dance)\n",
    "\n",
    "t1.start()\n",
    "t2.start()\n",
    "\n",
    "t1.join()\n",
    "t2.join()\n",
    "\n",
    "print(\"所有线程都结束了！\")\n",
    "\n"
   ]
  },
  {
   "cell_type": "code",
   "execution_count": 4,
   "id": "f84f0fdc",
   "metadata": {},
   "outputs": [],
   "source": [
    "import time\n",
    "import multiprocessing\n",
    "\n",
    "def sing():\n",
    "    for i in range(3):\n",
    "        print('唱歌...')\n",
    "        time.sleep(0.5)\n",
    "\n",
    "def dance():\n",
    "    for i in range(3):\n",
    "        print('跳舞...')\n",
    "        time.sleep(0.5)\n",
    "\n",
    "if __name__ == '__main__':\n",
    "    # 设置多进程启动方法为'spawn'\n",
    "    multiprocessing.set_start_method('spawn', force=True)\n",
    "    \n",
    "    # 创建多进程\n",
    "    sing_processing = multiprocessing.Process(target=sing)\n",
    "    dance_processing = multiprocessing.Process(target=dance)\n",
    "    \n",
    "    # 启动多进程\n",
    "    sing_processing.start()\n",
    "    dance_processing.start()\n",
    "    \n",
    "    # 等待进程结束\n",
    "    sing_processing.join()\n",
    "    dance_processing.join()\n"
   ]
  }
 ],
 "metadata": {
  "kernelspec": {
   "display_name": "Python 3",
   "language": "python",
   "name": "python3"
  },
  "language_info": {
   "codemirror_mode": {
    "name": "ipython",
    "version": 3
   },
   "file_extension": ".py",
   "mimetype": "text/x-python",
   "name": "python",
   "nbconvert_exporter": "python",
   "pygments_lexer": "ipython3",
   "version": "3.13.5"
  }
 },
 "nbformat": 4,
 "nbformat_minor": 5
}
