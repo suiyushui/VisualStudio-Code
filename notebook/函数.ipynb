{
 "cells": [
  {
   "cell_type": "markdown",
   "id": "edebf27f",
   "metadata": {},
   "source": [
    "# Python函数详解\n",
    "## 函数基本概念\n",
    "1. 函数的定义\n",
    "函数是一段代码块，它可以被其他代码调用，可以传递参数，并返回值。\n",
    "2. 函数的作用\n",
    "   - 代码复用：函数可以被其他代码调用，可以提高代码的复用性。\n",
    "   - 模块化：函数可以被模块化，可以将复杂的功能拆分成多个函数，使代码更加易读。\n",
    "   - 可读性： 函数可以提高代码的可读性，使代码更加易懂。\n",
    "   - 隐藏细节：函数可以隐藏函数的实现细节，使代码更加简洁。"
   ]
  },
  {
   "cell_type": "code",
   "execution_count": 4,
   "id": "88752e48",
   "metadata": {},
   "outputs": [
    {
     "name": "stdout",
     "output_type": "stream",
     "text": [
      "1-10之间所有整数之和： 55\n",
      "5-20之间所有整数之和： 200\n",
      "--------------------------------------------\n",
      "1到100之间所有整数之和：5050\n",
      "1到10之间所有整数之和：55\n",
      "5到20之间所有整数之和：200\n"
     ]
    }
   ],
   "source": [
    "# 需求：求指定范围内所有整数的和\n",
    "# 1：求1-10之间所有整数的和\n",
    "sum = 0\n",
    "i = 1\n",
    "while i<=10:\n",
    "    sum+=i\n",
    "    i+=1\n",
    "print(\"1-10之间所有整数之和：\",sum)\n",
    "\n",
    "# 1：求5-20之间所有整数的和\n",
    "sum = 0\n",
    "i = 5\n",
    "while i<=20:\n",
    "    sum+=i\n",
    "    i+=1\n",
    "print(\"5-20之间所有整数之和：\",sum)\n",
    "\n",
    "print(\"--------------------------------------------\")\n",
    "\n",
    "# 定义一个函数求指定区间内所有整数之和\n",
    "def sum(num1,num2): # 假设num1<=num2\n",
    "    sum=0\n",
    "    startNum = num1\n",
    "    while startNum<=num2:\n",
    "        sum+=startNum\n",
    "        startNum+=1\n",
    "    print(f\"{num1}到{num2}之间所有整数之和：{sum}\")\n",
    "\n",
    "# 调用函数求1-100之间所有整数之和\n",
    "sum(1,100)\n",
    "sum(1,10)\n",
    "sum(5,20)"
   ]
  },
  {
   "cell_type": "markdown",
   "id": "4ef3ee3d",
   "metadata": {},
   "source": [
    "## 函数的定义\n",
    "```def 函数名([参数列表]):\n",
    "    函数体\n",
    "    [return 返回值]\n",
    "```    \n",
    "- def 关键字用于定义函数\n",
    "- 函数名为自定义的函数名，可以任意取名\n",
    "- 参数列表为函数的参数，可以有多个参数，参数之间用逗号隔开\n",
    "- 函数体为函数的主体，可以包含多条语句\n",
    "- return 关键字用于返回函数的结果，可以有多个返回值，返回值之间用逗号隔开\n"
   ]
  },
  {
   "cell_type": "code",
   "execution_count": 10,
   "id": "1f8b3894",
   "metadata": {},
   "outputs": [
    {
     "name": "stdout",
     "output_type": "stream",
     "text": [
      "Hello, World!\n"
     ]
    }
   ],
   "source": [
    "# 定义函数，函数名为say_hello()，没有参数，没有返回值\n",
    "def say_hello():\n",
    "    print(\"Hello, World!\")\n",
    "say_hello() # 调用函数"
   ]
  },
  {
   "cell_type": "markdown",
   "id": "ca61737a",
   "metadata": {},
   "source": [
    "## 函数的形参与实参  \n",
    "\n",
    "1. **形参**\n",
    "    - 形参（parameter）：函数定义时，函数的输入参数，即函数的形式参数。\n",
    "    - 形式参数：函数调用时，实际传入函数的值，即函数的实际参数。\n",
    "2. **实参**\n",
    "    - 实参（argument）：函数调用时，实际传入函数的值，即函数的实际参数。\n",
    "    - 实际参数：函数定义时，函数的输入参数，即函数的形式参数。"
   ]
  },
  {
   "cell_type": "markdown",
   "id": "9182bc19",
   "metadata": {},
   "source": [
    "## 函数的参数传递\n",
    "### 1. 位置传递\n",
    "按函数定义时的参数位置传递参数，传递的参数与函数定义时的顺序一致  \n",
    "\n",
    "**注意**：调用函数时，实参和形参的个数要一致，否则会报错。\n"
   ]
  },
  {
   "cell_type": "code",
   "execution_count": 1,
   "id": "b86a4682",
   "metadata": {},
   "outputs": [
    {
     "name": "stdout",
     "output_type": "stream",
     "text": [
      "大家好！我叫张三，今年20岁了，我的爱好是篮球\n",
      "大家好！我叫19，今年足球岁了，我的爱好是李四\n"
     ]
    }
   ],
   "source": [
    "def showInfo(name,age,hobby):\n",
    "    print(f\"大家好！我叫{name}，今年{age}岁了，我的爱好是{hobby}\")\n",
    "\n",
    "# 按照函数定义时参数列表的顺序传参，才能输出正确的结果\n",
    "showInfo(\"张三\",20,\"篮球\") # 大家好！我叫张三，今年20岁了，我的爱好是篮球\n",
    "\n",
    "# 没有按照函数定义时参数列表的顺序传参，输出错误的结果\n",
    "showInfo(19,\"足球\",\"李四\") # 大家好！我叫19，今年足球岁了，我的爱好是李四\n",
    "\n",
    "# 按照函数定义时参数列表的顺序传参，但是多或者少传递了参数，报错\n",
    "# showInfo(\"张三\",20) # TypeError: showInfo() missing 1 required positional argument: 'hobby'\n",
    "# showInfo(\"张三\",20,\"篮球\",\"男\") # TypeError: showInfo() takes 3 positional arguments but 4 were given"
   ]
  },
  {
   "cell_type": "markdown",
   "id": "d04874dc",
   "metadata": {},
   "source": [
    "### 2 参数的关键字传递\n",
    "\n",
    "调用函数时，传递参数通过参数名传递参数，顺序可以随意。 "
   ]
  },
  {
   "cell_type": "code",
   "execution_count": null,
   "id": "956f8079",
   "metadata": {},
   "outputs": [],
   "source": [
    "def showInfo(name,age,hobby):\n",
    "    print(f\"大家好！我叫{name}，今年{age}岁了，我的爱好是{hobby}\")\n",
    "\n",
    "# 使用位置传参，传递参数时明确说明数据赋值给哪个参数，使用位置传参，参数顺序不需要和参数定义顺序一致\n",
    "showInfo(name=\"王五\",age=21,hobby=\"羽毛球\") # 大家好！我叫王五，今年21岁了，我的爱好是羽毛球\n",
    "showInfo(age=22,name=\"赵六\",hobby=\"乒乓球\") # 大家好！我叫赵六，今年22岁了，我的爱好是乒乓球\n",
    "showInfo(hobby=\"足球\",age=23,name=\"孙七\") # 大家好！我叫孙七，今年23岁了，我的爱好是足球"
   ]
  },
  {
   "cell_type": "markdown",
   "id": "6e4ba852",
   "metadata": {},
   "source": [
    "### 3 参数的默认值传递\n",
    "\n",
    "为参数提供默认值，调用时可以不传递该参数也可以传递参数，如果默认值参数不传递参数，则使用默认值，如果给默认参数传递了一个新的数据，则使用传递的新数据。\n",
    "\n",
    "**注意**：定义函数时，默认参数可以有多个，但是有默认参数的应该放在没有默认参数的右边，否则函数会报错。"
   ]
  },
  {
   "cell_type": "code",
   "execution_count": null,
   "id": "f572d850",
   "metadata": {},
   "outputs": [],
   "source": [
    "def showInfo(name,age,hobby,grade=\"大一\"):\n",
    "    print(f\"大家好！我叫{name}，今年{age}岁了，我的爱好是{hobby}！我今年读{grade}\")\n",
    "\n",
    "# 按照函数定义时参数列表的顺序传参，没有给grade参数赋值，使用默认值\n",
    "showInfo(\"张三\",20,\"篮球\") # 大家好！我叫张三，今年20岁了，我的爱好是篮球！我今年读大一\n",
    "# 按照函数定义时参数列表的顺序传参，给默认参数重新赋值为大二，输出grade参数值为大二\n",
    "showInfo(19,\"足球\",\"李四\",grade=\"大二\") # 大家好！我叫19，今年足球岁了，我的爱好是李四！我今年读大二\n",
    "\n",
    "\n",
    "# 使用位置传参，传递参数时明确说明数据赋值给哪个参数，使用位置传参，参数顺序不需要和参数定义顺序一致，默认值参数使用默认值\n",
    "showInfo(name=\"王五\",age=21,hobby=\"羽毛球\") # 大家好！我叫王五，今年21岁了，我的爱好是羽毛球！我今年读大一\n",
    "# 使用位置传参，传递参数时明确说明数据赋值给哪个参数，使用位置传参，参数顺序不需要和参数定义顺序一致，默认值参数重新赋值为“大二”\n",
    "showInfo(age=22,name=\"赵六\",hobby=\"乒乓球\",grade=\"大二\") # 大家好！我叫赵六，今年22岁了，我的爱好是乒乓球！我今年读大二\n",
    "# 使用位置传参，传递参数时明确说明数据赋值给哪个参数，使用位置传参，参数顺序不需要和参数定义顺序一致，默认值参数重新赋值为“大三”,默认值参数可以随便放在哪个位置\n",
    "showInfo(grade=\"大三\",hobby=\"足球\",age=20,name=\"孙七\") # 大家好！我叫孙七，今年20岁了，我的爱好是足球！我今年读大三"
   ]
  },
  {
   "cell_type": "markdown",
   "id": "466aadaf",
   "metadata": {},
   "source": [
    "### 4 参数的包裹传递\n",
    "\n",
    "在定义函数时，如果不知道调用时会传递多少个实参，就可以使用Python提供的能够接收任意多个实参的传参方式，这就是参数的包裹传递。\n",
    "\n",
    "#### 4.1 `*args`包裹传递\n",
    "\n",
    "形参*args会让Python创建一个名为args的空元组，并将传入函数的实参全部存储在此元组中。函数接收不同类型的实参时，Python会先匹配位置实参和关键字实参，然后将余下的实参收集到最后一个形参中。\n"
   ]
  },
  {
   "cell_type": "code",
   "execution_count": null,
   "id": "97f6c658",
   "metadata": {},
   "outputs": [],
   "source": [
    "def hobbys(name,*hobby):\n",
    "    print(hobby,type(hobby)) # 查看参数hobby和它的数据类型\n",
    "    print(f\"{name}的爱好有：\")\n",
    "    for value in hobby:\n",
    "        print(value)\n",
    "\n",
    "hobbys(\"张三\",\"篮球\")\n",
    "hobbys(\"李四\",\"篮球\",\"足球\")\n",
    "hobbys(\"王五\",\"羽毛球\",\"棒球\",\"滑雪\")"
   ]
  },
  {
   "cell_type": "markdown",
   "id": "5348714e",
   "metadata": {},
   "source": [
    "#### 4.2 `**kwargs`包裹传递\n",
    "\n",
    "形参**kwarg会让Python创建一个名为kwargs的空字典，并将传入的关键字实参存储在此字典中。函数接收不同类型的实参时，Python会先匹配位置形参，然后关键字形参，再是`*`元组形参，最后才是`**`字典形参，否则程序就会异常。"
   ]
  },
  {
   "cell_type": "code",
   "execution_count": null,
   "id": "ce4df37a",
   "metadata": {},
   "outputs": [],
   "source": [
    "def studentInfo(**info):\n",
    "    return info\n",
    "\n",
    "info1 = studentInfo()\n",
    "print(info1) # {}\n",
    "print(type(info1)) # <class 'dict'>\n",
    "\n",
    "info2 =studentInfo(sid=1001,name=\"张三\",age=20,grade=\"大二\")\n",
    "print(info2) # {'sid': 1001, 'name': '张三', 'age': 20, 'grade': '大二'}\n",
    "print(type(info2)) # <class 'dict'>"
   ]
  },
  {
   "cell_type": "markdown",
   "id": "949db40d",
   "metadata": {},
   "source": [
    "### 5 参数的解包裹传递\n",
    "\n",
    "#### 5.1 解包裹传递概念\n",
    "\n",
    "星号（*）和双星号（**）除了在函数的形参中使用，还可以在调用函数时使用，作为实参进行传递，这就是参数的解包裹传递。\n",
    "\n",
    "**参数的解包裹传递机制**：当实参为元组或列表时，将其拆分，使得元组或列表中的每一个元素对应一个位置形参；当实参为字典时，将字典拆分，使得字典中的每一个键值对作为一个关键字传递给形参。\n",
    "\n",
    "#### 5.2 示例1：实参为元组或列"
   ]
  },
  {
   "cell_type": "code",
   "execution_count": null,
   "id": "3b36092b",
   "metadata": {},
   "outputs": [],
   "source": [
    "# 定义函数，传递3个值，输出3个值的乘积\n",
    "def product(a,b,c):\n",
    "    print(a*b*c)\n",
    "    \n",
    "# 定义元组\n",
    "tuple01 = (10,20,40)\n",
    "# 调用函数，使用*传递元组\n",
    "product(*tuple01)\n",
    "\n",
    "# 定义列表\n",
    "list01 = [10,20,30]\n",
    "# 调用函数，使用*传递列表\n",
    "product(*list01)"
   ]
  },
  {
   "cell_type": "markdown",
   "id": "9b91bfa1",
   "metadata": {},
   "source": [
    "#### 5.3 示例2：实参为字典"
   ]
  },
  {
   "cell_type": "code",
   "execution_count": null,
   "id": "11c57392",
   "metadata": {},
   "outputs": [],
   "source": [
    "# 定义函数，传递3个值，输出3个值的乘积\n",
    "def product(a,b,c):\n",
    "    print(a*b*c)\n",
    "\n",
    "# 定义字典\n",
    "dict01 = {\"a\":10,\"b\":20,\"c\":60}\n",
    "# 调用函数，使用**传递字典\n",
    "product(**dict01)"
   ]
  },
  {
   "cell_type": "markdown",
   "id": "02861365",
   "metadata": {},
   "source": [
    "**注意:** 在调用函数传递字典时，字典中的键名必须和函数中形参的名称保持一致，否则会报错，请大家自行实验验证。并思考有没有办法解决传递的字典名与函数的形参名不一致的问题。"
   ]
  },
  {
   "cell_type": "markdown",
   "id": "1a751ed1",
   "metadata": {},
   "source": [
    "## 函数的返回值\n",
    "\n",
    "进行函数调用时，传递参数实现了从函数外部向函数内部的数据传输，而return语句则实现了从函数内部向函数外部输出数据。函数的返回值可以是空值、1个值或多个值，返回多个值时，多个值之间使用英文逗号`,`隔开，返回的多个值你可以使用对应个数的变量去接收，也可以用一个变量接收，这个变量是一个元组变量。\n",
    "\n",
    "如果定义函数时没有return语句，或者只有return语句而没有返回值，则Python会认为此函数返回的是None，None表示空值。\n",
    "\n",
    "return语句可以在函数中的任何位置，当执行return语句时，函数停止执行，return语句后的代码不再执行。这个和break在循环中的作用一样。\n",
    "\n",
    "### 1 语法结构\n",
    "\n",
    "```python\n",
    "return 值1 [,值2，值3，...]\n",
    "```\n",
    "\n",
    "### 2 实例1：返回None值\n"
   ]
  },
  {
   "cell_type": "code",
   "execution_count": 2,
   "id": "3581046a",
   "metadata": {},
   "outputs": [
    {
     "name": "stdout",
     "output_type": "stream",
     "text": [
      "30\n",
      "None\n",
      "<class 'NoneType'>\n"
     ]
    }
   ],
   "source": [
    "\n",
    "def m1(num1,num2):\n",
    "    print(num1+num2)\n",
    "result=m1(10,20) #调用函数，并将返回值赋值给变量result\n",
    "print(result) #None\n",
    "print(type(result)) #<class 'NoneType'>"
   ]
  },
  {
   "cell_type": "markdown",
   "id": "039d36ee",
   "metadata": {},
   "source": [
    "### 4 示例3：返回多个值"
   ]
  },
  {
   "cell_type": "code",
   "execution_count": 2,
   "id": "0fcb90aa",
   "metadata": {},
   "outputs": [
    {
     "name": "stdout",
     "output_type": "stream",
     "text": [
      "(10, 20)\n",
      "<class 'tuple'>\n"
     ]
    }
   ],
   "source": [
    "# 定义一个方法，返回1个值\n",
    "def m1(num1,num2):\n",
    "    return num1,num2\n",
    "\n",
    "result1 = m1(10,20)\n",
    "print(result1) # (10, 20)\n",
    "print(type(result1)) # <class 'tuple'>"
   ]
  },
  {
   "cell_type": "markdown",
   "id": "9279a80e",
   "metadata": {},
   "source": [
    "![图片](../前端学习-html/图片/1.1.5.jpg)"
   ]
  }
 ],
 "metadata": {
  "kernelspec": {
   "display_name": "Python 3",
   "language": "python",
   "name": "python3"
  },
  "language_info": {
   "codemirror_mode": {
    "name": "ipython",
    "version": 3
   },
   "file_extension": ".py",
   "mimetype": "text/x-python",
   "name": "python",
   "nbconvert_exporter": "python",
   "pygments_lexer": "ipython3",
   "version": "3.13.5"
  }
 },
 "nbformat": 4,
 "nbformat_minor": 5
}
