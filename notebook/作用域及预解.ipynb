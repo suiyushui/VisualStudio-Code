{
 "cells": [
  {
   "cell_type": "markdown",
   "id": "1fec8735",
   "metadata": {},
   "source": [
    "## **设计模式**\n",
    "### 1. 创建类设计模式\n",
    "        1. 单例模式\n",
    "        2. 工厂模式\n",
    "        3. 抽象工厂模式\n",
    "        4. 建造者模式\n",
    "        5. 原型模式\n",
    "### 2. 结构类设计模式\n",
    "       1. 装饰模式\n",
    "       2. 适配器模式\n",
    "       3. 外观模式\n",
    "       4. 组合模式\n",
    "       5. 享元模式\n",
    "       6. 代理模式\n",
    "       7. 桥接模式\n",
    "### 3. 行为类设计模式\n",
    "       1. 策略模式\n",
    "       2. 责任链模式\n",
    "       3. 命令模式\n",
    "       4. 观察者模式\n",
    "       5. 状态模式\n",
    "       6. 迭代器模式\n",
    "    "
   ]
  },
  {
   "cell_type": "markdown",
   "id": "c8a39fe0",
   "metadata": {},
   "source": [
    "### ***单例模式***\n",
    "单例模式是一种创建型设计模式，它保证一个类只有一个实例，并提供一个全局访问点。\n",
    "\n",
    "在Python中，我们可以使用模块、类、函数或者方法来实现单例模式。 \n",
    "1. 饱汉式单例模式\n",
    "2. 懒汉式单例模式\n",
    "\n"
   ]
  },
  {
   "cell_type": "code",
   "execution_count": 9,
   "id": "9d0642c9",
   "metadata": {},
   "outputs": [],
   "source": [
    "import threading \n",
    "import time \n",
    "\n",
    "class Singleton(object):\n",
    "    _count=0\n",
    "    lock=threading.RLock() #实例化一个锁对象，用于线程同步\n",
    "    def __init__ (self,*args,**kwargs):\n",
    "        time.sleep(0.2) #模拟耗时操作\n",
    "\n",
    "    @classmethod #类方法，用于获取实例\n",
    "    def intance(cls,*args,**kwargs):\n",
    "        if not hasattr(Singleton,'_instance'):\n",
    "            with cls.lock:\n",
    "                if not hasattr(Singleton,'_instance'):\n",
    "                    cls._instance=Singleton()\n",
    "                    cls._count+=1\n",
    "        return cls._instance\n",
    "    def get_count(self):\n",
    "        return self._count\n",
    "def task():\n",
    "    obj=Singleton.instance()\n",
    "    print('{}\\t{}'.format(obj,obj.get_count()))\n",
    "    for i in range(4):\n",
    "        t=threading.Thread(target=task)\n",
    "        t.start"
   ]
  }
 ],
 "metadata": {
  "kernelspec": {
   "display_name": "Python 3",
   "language": "python",
   "name": "python3"
  },
  "language_info": {
   "codemirror_mode": {
    "name": "ipython",
    "version": 3
   },
   "file_extension": ".py",
   "mimetype": "text/x-python",
   "name": "python",
   "nbconvert_exporter": "python",
   "pygments_lexer": "ipython3",
   "version": "3.13.5"
  }
 },
 "nbformat": 4,
 "nbformat_minor": 5
}
